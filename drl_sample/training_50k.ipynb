{
 "cells": [
  {
   "cell_type": "code",
   "execution_count": 1,
   "metadata": {},
   "outputs": [
    {
     "name": "stderr",
     "output_type": "stream",
     "text": [
      "2024-11-14 16:21:16.785909: I tensorflow/core/common_runtime/pluggable_device/pluggable_device_factory.cc:305] Could not identify NUMA node of platform GPU ID 0, defaulting to 0. Your kernel may not have been built with NUMA support.\n",
      "2024-11-14 16:21:16.786006: I tensorflow/core/common_runtime/pluggable_device/pluggable_device_factory.cc:271] Created TensorFlow device (/job:localhost/replica:0/task:0/device:GPU:0 with 0 MB memory) -> physical PluggableDevice (device: 0, name: METAL, pci bus id: <undefined>)\n"
     ]
    },
    {
     "name": "stdout",
     "output_type": "stream",
     "text": [
      "Metal device set to: Apple M1\n",
      "\n",
      "systemMemory: 16.00 GB\n",
      "maxCacheSize: 5.33 GB\n",
      "\n",
      "csv/ddqn.csv already exists.\n"
     ]
    },
    {
     "name": "stderr",
     "output_type": "stream",
     "text": [
      "2024-11-14 16:21:17.004894: W tensorflow/core/platform/profile_utils/cpu_utils.cc:128] Failed to get CPU frequency: 0 Hz\n",
      "2024-11-14 16:21:17.050837: I tensorflow/core/grappler/optimizers/custom_graph_optimizer_registry.cc:113] Plugin optimizer for device_type GPU is enabled.\n",
      "2024-11-14 16:21:21.169239: I tensorflow/core/grappler/optimizers/custom_graph_optimizer_registry.cc:113] Plugin optimizer for device_type GPU is enabled.\n"
     ]
    },
    {
     "name": "stdout",
     "output_type": "stream",
     "text": [
      "Iteration 1000 reward: 0.447\n",
      "Iteration 2000 reward: 0.4335\n",
      "Iteration 3000 reward: 0.478\n",
      "Iteration 4000 reward: 0.48525\n",
      "Iteration 5000 reward: 0.513\n",
      "Iteration 6000 reward: 0.5238333333333334\n",
      "Iteration 7000 reward: 0.539\n",
      "Iteration 8000 reward: 0.555375\n",
      "Iteration 9000 reward: 0.569\n",
      "Iteration 10000 reward: 0.5812\n",
      "Iteration 11000 reward: 0.5891818181818181\n",
      "Iteration 12000 reward: 0.5920833333333333\n",
      "Iteration 13000 reward: 0.6002307692307692\n",
      "Iteration 14000 reward: 0.6056428571428571\n",
      "Iteration 15000 reward: 0.6152\n",
      "Iteration 16000 reward: 0.6229375\n",
      "Iteration 17000 reward: 0.6352941176470588\n",
      "Iteration 18000 reward: 0.6438888888888888\n",
      "Iteration 19000 reward: 0.6495263157894737\n",
      "Iteration 20000 reward: 0.6583\n",
      "Iteration 21000 reward: 0.6652857142857143\n",
      "Iteration 22000 reward: 0.6695454545454546\n",
      "Iteration 23000 reward: 0.6727826086956522\n",
      "Iteration 24000 reward: 0.6767916666666667\n",
      "Iteration 25000 reward: 0.68144\n",
      "Iteration 26000 reward: 0.6857692307692308\n",
      "Iteration 27000 reward: 0.6891481481481482\n",
      "Iteration 28000 reward: 0.6925714285714286\n",
      "Iteration 29000 reward: 0.6977241379310345\n",
      "Iteration 30000 reward: 0.6992333333333334\n",
      "Iteration 31000 reward: 0.7024516129032258\n",
      "Iteration 32000 reward: 0.70409375\n",
      "Iteration 33000 reward: 0.7073636363636364\n",
      "Iteration 34000 reward: 0.7105294117647059\n",
      "Iteration 35000 reward: 0.7134571428571429\n",
      "Iteration 36000 reward: 0.7154444444444444\n",
      "Iteration 37000 reward: 0.717\n",
      "Iteration 38000 reward: 0.7186315789473684\n",
      "Iteration 39000 reward: 0.7207179487179487\n",
      "Iteration 40000 reward: 0.722175\n",
      "Iteration 41000 reward: 0.7246585365853658\n",
      "Iteration 42000 reward: 0.7276190476190476\n",
      "Iteration 43000 reward: 0.7287906976744186\n",
      "Iteration 44000 reward: 0.7312954545454545\n",
      "Iteration 45000 reward: 0.7319777777777777\n",
      "Iteration 46000 reward: 0.7319130434782609\n",
      "Iteration 47000 reward: 0.7328297872340426\n",
      "Iteration 48000 reward: 0.735\n",
      "Iteration 49000 reward: 0.737\n",
      "Iteration 50000 reward: 0.7377\n",
      "WARNING:tensorflow:Compiled the loaded model, but the compiled metrics have yet to be built. `model.compile_metrics` will be empty until you train or evaluate the model.\n"
     ]
    }
   ],
   "source": [
    "# Traning ddqn network\n",
    "from dqn import DQN\n",
    "\n",
    "ddqn = DQN(dueling=True)\n",
    "ddqn.learning()"
   ]
  }
 ],
 "metadata": {
  "kernelspec": {
   "display_name": "tf-gpu",
   "language": "python",
   "name": "python3"
  },
  "language_info": {
   "codemirror_mode": {
    "name": "ipython",
    "version": 3
   },
   "file_extension": ".py",
   "mimetype": "text/x-python",
   "name": "python",
   "nbconvert_exporter": "python",
   "pygments_lexer": "ipython3",
   "version": "3.9.20"
  }
 },
 "nbformat": 4,
 "nbformat_minor": 2
}
