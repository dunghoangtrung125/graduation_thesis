{
 "cells": [
  {
   "cell_type": "code",
   "execution_count": 2,
   "metadata": {},
   "outputs": [
    {
     "name": "stderr",
     "output_type": "stream",
     "text": [
      "2024-11-11 11:50:33.976539: I tensorflow/core/common_runtime/pluggable_device/pluggable_device_factory.cc:305] Could not identify NUMA node of platform GPU ID 0, defaulting to 0. Your kernel may not have been built with NUMA support.\n",
      "2024-11-11 11:50:33.976619: I tensorflow/core/common_runtime/pluggable_device/pluggable_device_factory.cc:271] Created TensorFlow device (/job:localhost/replica:0/task:0/device:GPU:0 with 0 MB memory) -> physical PluggableDevice (device: 0, name: METAL, pci bus id: <undefined>)\n"
     ]
    },
    {
     "name": "stdout",
     "output_type": "stream",
     "text": [
      "Metal device set to: Apple M1\n",
      "\n",
      "systemMemory: 16.00 GB\n",
      "maxCacheSize: 5.33 GB\n",
      "\n"
     ]
    },
    {
     "name": "stderr",
     "output_type": "stream",
     "text": [
      "2024-11-11 11:50:34.697534: W tensorflow/core/platform/profile_utils/cpu_utils.cc:128] Failed to get CPU frequency: 0 Hz\n",
      "2024-11-11 11:50:34.735413: I tensorflow/core/grappler/optimizers/custom_graph_optimizer_registry.cc:113] Plugin optimizer for device_type GPU is enabled.\n",
      "2024-11-11 11:50:42.183634: I tensorflow/core/grappler/optimizers/custom_graph_optimizer_registry.cc:113] Plugin optimizer for device_type GPU is enabled.\n"
     ]
    },
    {
     "name": "stdout",
     "output_type": "stream",
     "text": [
      "Iteration 1000 reward: 0.655\n",
      "Iteration 2000 reward: 0.67\n",
      "Iteration 3000 reward: 0.718\n",
      "Iteration 4000 reward: 0.76475\n",
      "Iteration 5000 reward: 0.8008\n",
      "Iteration 6000 reward: 0.8303333333333334\n",
      "Iteration 7000 reward: 0.8624285714285714\n",
      "Iteration 8000 reward: 0.8915\n",
      "Iteration 9000 reward: 0.9183333333333333\n",
      "Iteration 10000 reward: 0.9401\n",
      "Iteration 11000 reward: 0.9661818181818181\n",
      "Iteration 12000 reward: 0.9889166666666667\n",
      "Iteration 13000 reward: 1.0093846153846153\n",
      "Iteration 14000 reward: 1.0260714285714285\n",
      "Iteration 15000 reward: 1.0423333333333333\n",
      "Iteration 16000 reward: 1.0595\n",
      "Iteration 17000 reward: 1.0755294117647058\n",
      "Iteration 18000 reward: 1.0893333333333333\n",
      "Iteration 19000 reward: 1.1036842105263158\n",
      "Iteration 20000 reward: 1.1154\n",
      "Iteration 21000 reward: 1.1282857142857143\n",
      "Iteration 22000 reward: 1.1374090909090908\n",
      "Iteration 23000 reward: 1.1464347826086956\n",
      "Iteration 24000 reward: 1.1559166666666667\n",
      "Iteration 25000 reward: 1.1658\n",
      "Iteration 26000 reward: 1.174653846153846\n",
      "Iteration 27000 reward: 1.1824444444444444\n",
      "Iteration 28000 reward: 1.1887142857142856\n",
      "Iteration 29000 reward: 1.1949310344827586\n",
      "Iteration 30000 reward: 1.2021666666666666\n",
      "Iteration 31000 reward: 1.2076129032258065\n",
      "Iteration 32000 reward: 1.21315625\n",
      "Iteration 33000 reward: 1.2185151515151516\n",
      "Iteration 34000 reward: 1.2254411764705881\n",
      "Iteration 35000 reward: 1.2299714285714285\n",
      "Iteration 36000 reward: 1.2357777777777779\n",
      "Iteration 37000 reward: 1.2411351351351352\n",
      "Iteration 38000 reward: 1.2448157894736842\n",
      "Iteration 39000 reward: 1.2501794871794871\n",
      "Iteration 40000 reward: 1.255325\n",
      "Iteration 41000 reward: 1.2602195121951218\n",
      "Iteration 42000 reward: 1.2635714285714286\n",
      "Iteration 43000 reward: 1.2675348837209302\n",
      "Iteration 44000 reward: 1.2709772727272728\n",
      "Iteration 45000 reward: 1.2738222222222222\n",
      "Iteration 46000 reward: 1.2775\n",
      "Iteration 47000 reward: 1.28068085106383\n",
      "Iteration 48000 reward: 1.2834791666666667\n",
      "Iteration 49000 reward: 1.2859591836734694\n",
      "Iteration 50000 reward: 1.28988\n",
      "WARNING:tensorflow:Compiled the loaded model, but the compiled metrics have yet to be built. `model.compile_metrics` will be empty until you train or evaluate the model.\n"
     ]
    }
   ],
   "source": [
    "# Traning ddqn network\n",
    "from dqn import DQN\n",
    "\n",
    "ddqn = DQN(dueling=True)\n",
    "ddqn.learning()"
   ]
  }
 ],
 "metadata": {
  "kernelspec": {
   "display_name": "tf-gpu",
   "language": "python",
   "name": "python3"
  },
  "language_info": {
   "codemirror_mode": {
    "name": "ipython",
    "version": 3
   },
   "file_extension": ".py",
   "mimetype": "text/x-python",
   "name": "python",
   "nbconvert_exporter": "python",
   "pygments_lexer": "ipython3",
   "version": "3.9.20"
  }
 },
 "nbformat": 4,
 "nbformat_minor": 2
}
