{
 "cells": [
  {
   "cell_type": "code",
   "execution_count": 1,
   "metadata": {},
   "outputs": [
    {
     "name": "stdout",
     "output_type": "stream",
     "text": [
      "Metal device set to: Apple M1\n",
      "\n",
      "systemMemory: 16.00 GB\n",
      "maxCacheSize: 5.33 GB\n",
      "\n",
      "WARNING:tensorflow:No training configuration found in the save file, so the model was *not* compiled. Compile it manually.\n"
     ]
    },
    {
     "name": "stderr",
     "output_type": "stream",
     "text": [
      "/opt/anaconda3/envs/tf-gpu/lib/python3.9/site-packages/keras/layers/core/lambda_layer.py:303: UserWarning: dqn is not loaded, but a Lambda layer uses it. It may cause errors.\n",
      "  function = cls._parse_function_from_config(config, custom_objects,\n",
      "2024-11-14 17:10:14.328155: I tensorflow/core/common_runtime/pluggable_device/pluggable_device_factory.cc:305] Could not identify NUMA node of platform GPU ID 0, defaulting to 0. Your kernel may not have been built with NUMA support.\n",
      "2024-11-14 17:10:14.328243: I tensorflow/core/common_runtime/pluggable_device/pluggable_device_factory.cc:271] Created TensorFlow device (/job:localhost/replica:0/task:0/device:GPU:0 with 0 MB memory) -> physical PluggableDevice (device: 0, name: METAL, pci bus id: <undefined>)\n",
      "2024-11-14 17:10:14.530767: W tensorflow/core/platform/profile_utils/cpu_utils.cc:128] Failed to get CPU frequency: 0 Hz\n",
      "2024-11-14 17:10:14.576470: I tensorflow/core/grappler/optimizers/custom_graph_optimizer_registry.cc:113] Plugin optimizer for device_type GPU is enabled.\n"
     ]
    },
    {
     "name": "stdout",
     "output_type": "stream",
     "text": [
      "---------------------------------------------------\n",
      "Result after running simulation in 40000 time units\n",
      "Total rewards = 32028\n",
      "Number packages sent successfully = 32038\n",
      "Avg throughput (packages/time unit) = 0.8007\n",
      "Avg loss (packages/time unit) = 2.20745\n",
      "PDR = 26.623786730487968%\n",
      "---------------------------------------------------\n",
      "---------------------------------------------------\n",
      "Package still in queue = 10\n",
      "Success packages = 32028\n",
      "Loss packages = 88298\n",
      "Total packages arrival = 120336\n"
     ]
    }
   ],
   "source": [
    "from ddqn_simulation import DDQNSimulate\n",
    "\n",
    "ddqn_simulation = DDQNSimulate()\n",
    "ddqn_simulation.run()"
   ]
  },
  {
   "cell_type": "code",
   "execution_count": 5,
   "metadata": {},
   "outputs": [
    {
     "name": "stdout",
     "output_type": "stream",
     "text": [
      "---------------------------------------------------\n",
      "Result after running simulation in 40000 time units\n",
      "Number packages sent successfully = 31314\n",
      "Avg throughput (packages/time unit) = 0.78285\n",
      "Avg loss (packages/time unit) = 2.225775\n",
      "PDR = 26.018029994599313%\n",
      "---------------------------------------------------\n",
      "---------------------------------------------------\n",
      "Total packages send = 120355\n",
      "Loss packages = 89031\n",
      "Success packages = 31314\n",
      "Package still in queue = 10\n"
     ]
    }
   ],
   "source": [
    "# HTT\n",
    "from harvest_then_transmit import HarvestThenTransmitt\n",
    "\n",
    "htt = HarvestThenTransmitt()\n",
    "htt.run()"
   ]
  },
  {
   "cell_type": "code",
   "execution_count": 6,
   "metadata": {},
   "outputs": [
    {
     "name": "stdout",
     "output_type": "stream",
     "text": [
      "---------------------------------------------------\n",
      "Result after running simulation in 40000 time units\n",
      "Number packages sent successfully = 32161\n",
      "Avg throughput (packages/time unit) = 0.804025\n",
      "Avg loss (packages/time unit) = 2.195725\n",
      "PDR = 26.801056675472296%\n",
      "---------------------------------------------------\n",
      "Total packages send = 119999\n",
      "Loss packages = 87829\n",
      "Success packages = 32161\n",
      "Package still in queue = 9\n"
     ]
    }
   ],
   "source": [
    "# Backscatter mode\n",
    "from backscatter_strategy import BackScatterStrategy\n",
    "\n",
    "backscatter = BackScatterStrategy()\n",
    "backscatter.run()"
   ]
  }
 ],
 "metadata": {
  "kernelspec": {
   "display_name": "tf-gpu",
   "language": "python",
   "name": "python3"
  },
  "language_info": {
   "codemirror_mode": {
    "name": "ipython",
    "version": 3
   },
   "file_extension": ".py",
   "mimetype": "text/x-python",
   "name": "python",
   "nbconvert_exporter": "python",
   "pygments_lexer": "ipython3",
   "version": "3.9.20"
  }
 },
 "nbformat": 4,
 "nbformat_minor": 2
}
