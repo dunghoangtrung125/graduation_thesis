{
 "cells": [
  {
   "cell_type": "code",
   "execution_count": 1,
   "metadata": {},
   "outputs": [
    {
     "name": "stdout",
     "output_type": "stream",
     "text": [
      "Metal device set to: Apple M1\n",
      "\n",
      "systemMemory: 16.00 GB\n",
      "maxCacheSize: 5.33 GB\n",
      "\n",
      "WARNING:tensorflow:No training configuration found in the save file, so the model was *not* compiled. Compile it manually.\n"
     ]
    },
    {
     "name": "stderr",
     "output_type": "stream",
     "text": [
      "/opt/anaconda3/envs/tf-gpu/lib/python3.9/site-packages/keras/layers/core/lambda_layer.py:303: UserWarning: dqn is not loaded, but a Lambda layer uses it. It may cause errors.\n",
      "  function = cls._parse_function_from_config(config, custom_objects,\n",
      "2024-11-15 09:48:25.175646: I tensorflow/core/common_runtime/pluggable_device/pluggable_device_factory.cc:305] Could not identify NUMA node of platform GPU ID 0, defaulting to 0. Your kernel may not have been built with NUMA support.\n",
      "2024-11-15 09:48:25.175740: I tensorflow/core/common_runtime/pluggable_device/pluggable_device_factory.cc:271] Created TensorFlow device (/job:localhost/replica:0/task:0/device:GPU:0 with 0 MB memory) -> physical PluggableDevice (device: 0, name: METAL, pci bus id: <undefined>)\n",
      "2024-11-15 09:48:25.376591: W tensorflow/core/platform/profile_utils/cpu_utils.cc:128] Failed to get CPU frequency: 0 Hz\n",
      "2024-11-15 09:48:25.419762: I tensorflow/core/grappler/optimizers/custom_graph_optimizer_registry.cc:113] Plugin optimizer for device_type GPU is enabled.\n"
     ]
    },
    {
     "name": "stdout",
     "output_type": "stream",
     "text": [
      "---------------------------------------------------\n",
      "Result after running simulation in 40000 time units\n",
      "Total rewards = 57468\n",
      "Number packages sent successfully = 57478\n",
      "Avg throughput (packages/time unit) = 1.4367\n",
      "Avg loss (packages/time unit) = 1.560725\n",
      "PDR = 47.93548333291635%\n",
      "---------------------------------------------------\n",
      "---------------------------------------------------\n",
      "Package still in queue = 10\n",
      "Success packages = 57468\n",
      "Loss packages = 62429\n",
      "Total packages arrival = 119907\n"
     ]
    }
   ],
   "source": [
    "from ddqn_simulation import DDQNSimulate\n",
    "\n",
    "ddqn_simulation = DDQNSimulate()\n",
    "ddqn_simulation.run()"
   ]
  },
  {
   "cell_type": "code",
   "execution_count": 1,
   "metadata": {},
   "outputs": [
    {
     "name": "stdout",
     "output_type": "stream",
     "text": [
      "---------------------------------------------------\n",
      "Result after running simulation in 40000 time units\n",
      "Number packages sent successfully = 16115\n",
      "Avg throughput (packages/time unit) = 0.402875\n",
      "Avg loss (packages/time unit) = 2.596825\n",
      "PDR = 13.429390489841497%\n",
      "---------------------------------------------------\n",
      "---------------------------------------------------\n",
      "Total packages send = 119998\n",
      "Loss packages = 103873\n",
      "Success packages = 16115\n",
      "Package still in queue = 10\n"
     ]
    }
   ],
   "source": [
    "# HTT\n",
    "from harvest_then_transmit import HarvestThenTransmitt\n",
    "\n",
    "htt = HarvestThenTransmitt()\n",
    "htt.run()"
   ]
  },
  {
   "cell_type": "code",
   "execution_count": 2,
   "metadata": {},
   "outputs": [
    {
     "name": "stdout",
     "output_type": "stream",
     "text": [
      "---------------------------------------------------\n",
      "Result after running simulation in 40000 time units\n",
      "Number packages sent successfully = 56369\n",
      "Avg throughput (packages/time unit) = 1.409225\n",
      "Avg loss (packages/time unit) = 1.58715\n",
      "PDR = 47.02746445972102%\n",
      "---------------------------------------------------\n",
      "Total packages send = 119864\n",
      "Loss packages = 63486\n",
      "Success packages = 56369\n",
      "Package still in queue = 9\n"
     ]
    }
   ],
   "source": [
    "# Backscatter mode\n",
    "from backscatter_strategy import BackScatterStrategy\n",
    "\n",
    "backscatter = BackScatterStrategy()\n",
    "backscatter.run()"
   ]
  }
 ],
 "metadata": {
  "kernelspec": {
   "display_name": "tf-gpu",
   "language": "python",
   "name": "python3"
  },
  "language_info": {
   "codemirror_mode": {
    "name": "ipython",
    "version": 3
   },
   "file_extension": ".py",
   "mimetype": "text/x-python",
   "name": "python",
   "nbconvert_exporter": "python",
   "pygments_lexer": "ipython3",
   "version": "3.9.20"
  }
 },
 "nbformat": 4,
 "nbformat_minor": 2
}
